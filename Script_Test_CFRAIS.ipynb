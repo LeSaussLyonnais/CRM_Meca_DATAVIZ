{
 "cells": [
  {
   "cell_type": "code",
   "execution_count": 5,
   "id": "3b6513d5-f6b4-499e-a4ba-a73ba02a2980",
   "metadata": {},
   "outputs": [
    {
     "name": "stdout",
     "output_type": "stream",
     "text": [
      "[('ATCRM', 1, 'CTRL ', 'CRM CONTROLE                  ', 2, '          ', 0), ('ATCRM', 1, 'CND  ', 'CRM CONTROLE NON DESTRUCTIF   ', 2, '          ', 0), ('ATCRM', 1, 'CP450', 'CRM TOUR CN PUMA 450          ', 2, '          ', 0), ('ATCRM', 1, 'CP480', 'CRM TOUR CN PUMA 480          ', 2, '          ', 0), ('ATCRM', 1, 'CP500', 'CRM TOUR CN PUMA 500          ', 2, '          ', 0), ('ATCRM', 1, 'CP700', 'CRM TOUR CN PUMA 700          ', 2, '          ', 0), ('ATCRM', 1, 'C35-1', 'CRM TOUR CMZ N°1              ', 2, '          ', 0), ('ATCRM', 1, 'CP350', 'CRM TOUR CN PUMA 350          ', 2, '          ', 0), ('ATCRM', 1, 'C35-2', 'CRM TOUR CMZ N°2              ', 2, '          ', 0), ('ATCRM', 1, 'C6800', 'CRM FRAISEUSE CN FH6800       ', 2, '          ', 0), ('ATCRM', 1, 'CSX-2', 'CRM FRAISEUSE CN TOYODA SX2   ', 2, '          ', 0), ('ATCRM', 1, 'CSX-1', 'CRM FRAISEUSE CN TOYODA SX-1  ', 2, '          ', 0), ('ATCRM', 1, 'MV530', 'MGB FRAISEUSE CN MAZAK VCS530C', 2, '          ', 0), ('ATCRM', 1, 'MQTS ', 'MGB TOUR CN MAZAK QTS 200     ', 2, '          ', 0), ('ATCRM', 1, 'CMSQ1', 'CRM MECANOSOUDEUR QUALIFIE N°1', 2, '          ', 0), ('ATCRM', 1, 'CMSQ2', 'CRM MECANOSOUDEUR QUALIFIE N°2', 2, '          ', 0), ('ATCRM', 1, 'CMSQ3', 'CRM MECANOSOUDEUR QUALIFIE N°3', 2, '          ', 0), ('ATCRM', 1, 'CMSSQ', 'CRM MECANOSOUDURE  SANS QUALIF', 2, '          ', 0), ('ATCRM', 1, 'CCLA1', 'CRM POTENCE CLADDING N°1      ', 2, '          ', 0), ('ATCRM', 1, 'CCLA2', 'CRM POTENCE CLADDING N°2      ', 2, '          ', 0), ('ATCRM', 1, 'CCLA3', 'CRM POTENCE CLADDING N°3      ', 2, '          ', 0), ('ATCRM', 1, 'CTSOU', 'CRM TOUR DE SOUDURE           ', 2, '          ', 0), ('ATCRM', 1, 'CTOUR', 'CRM TOURNAGE CONVENTIONNEL    ', 2, '          ', 0), ('ATCRM', 1, 'CFOUR', 'CRM FOUR THERMIDOR N°1 ET 2   ', 2, '          ', 0), ('ATCRM', 1, 'CEMBA', 'CRM EMBALLAGE                 ', 2, '          ', 0), ('ATCRM', 1, 'CAJUS', 'CRM AJUSTAGE                  ', 2, '          ', 0), ('ATCRM', 1, 'MWELE', 'MGB FRAISEUSE CN WELLE 1565   ', 2, '          ', 0), ('ATCRM', 1, 'CBIL ', 'CONTROLE DURETE HB            ', 2, '          ', 0), ('ATCRM', 1, 'CWELE', 'CRM FRAISEUSE CN WELLE 1565   ', 2, '          ', 0), ('ATCRM', 1, 'CV530', 'CRM FRAISEUSE CN MAZAK VCS530 ', 2, '          ', 0), ('ATCRM', 1, 'CQTS ', 'CRM TOUR CN MAZAK QTS 200     ', 2, '          ', 0), ('ATCRM', 1, 'CFRCO', 'CRM FRAISAGE CONVENTIONNEL    ', 2, '          ', 0), ('ATCRM', 1, 'CTRID', 'HEXAGON GLOBAL S              ', 2, '          ', 0), ('ATCRM', 1, 'CMSQ ', 'CRM MECANOSOUDEUR QUALIFIE    ', 2, '          ', 0), ('ATCRM', 1, 'CSX  ', 'CRM FRAISEUSE CN TOYODA SX    ', 2, '          ', 0), ('ATCRM', 1, 'SPTC3', 'TC35 TARIF SPECIAL            ', 2, '          ', 0), ('ATCRM', 1, 'CSCIE', 'DEBIT CRM                     ', 2, '          ', 0), ('ATCRM', 1, 'CHCN6', 'CRM FRAISEUSE CN HCN6000      ', 2, '          ', 0)]\n"
     ]
    }
   ],
   "source": [
    "import pypyodbc\n",
    "\n",
    "server = '192.168.0.21'\n",
    "port = '4900'\n",
    "database = 'BAC_A_SABLE'\n",
    "username = 'admin'\n",
    "password = 'Clip_SERENA'\n",
    "\n",
    "\n",
    "cnxn = pypyodbc.connect('DRIVER={HFSQL}; \\\n",
    "                        Server Name =' + server + '; \\\n",
    "                        Server Port=' + port + '; \\\n",
    "                        DATABASE=' + database + '; \\\n",
    "                        UID=' + username + '; \\\n",
    "                        PWD=' + password)\n",
    "                        #Trusted_Connection=yes;\n",
    "\n",
    "crsr = cnxn.cursor()\n",
    "\n",
    "table_name = 'CFRAIS'\n",
    "#cf_name = 'C6800'\n",
    "semaine = '12'\n",
    "site = 'ATCRM'\n",
    "\n",
    "#query = 'SELECT * FROM {}'.format(table_name)\n",
    "query = \"SELECT COSECT, TYPE, COFRAIS, DESIGN, FAM, COGROUPE, EXCLU  FROM \" +table_name+ \" WHERE COSECT like '\" +site+ \"'\"\n",
    "#query = \"SELECT COSECT FROM \" +table_name+ \" WHERE SEMAINE = \" +semaine\n",
    "#COFRAIS like '\" +cf_name+ \"' AND\n",
    "\n",
    "records = crsr.execute(query).fetchall()\n",
    "print(records)\n",
    "\n",
    "#columns_list = list(crsr.columns())\n",
    "#columns_list"
   ]
  },
  {
   "cell_type": "code",
   "execution_count": null,
   "id": "9edf37f6-9224-4562-8d0b-8d152cac6ae7",
   "metadata": {},
   "outputs": [],
   "source": []
  }
 ],
 "metadata": {
  "kernelspec": {
   "display_name": "Python 3 (ipykernel)",
   "language": "python",
   "name": "python3"
  },
  "language_info": {
   "codemirror_mode": {
    "name": "ipython",
    "version": 3
   },
   "file_extension": ".py",
   "mimetype": "text/x-python",
   "name": "python",
   "nbconvert_exporter": "python",
   "pygments_lexer": "ipython3",
   "version": "3.12.2"
  }
 },
 "nbformat": 4,
 "nbformat_minor": 5
}
