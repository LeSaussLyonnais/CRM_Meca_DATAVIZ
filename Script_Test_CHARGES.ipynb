{
 "cells": [
  {
   "cell_type": "code",
   "execution_count": 32,
   "id": "c52c2a55-637b-4058-b5ec-9bd2130d710a",
   "metadata": {},
   "outputs": [
    {
     "name": "stdout",
     "output_type": "stream",
     "text": [
      "[('ATLBT',), ('ATLBT',), ('ATLBT',), ('ATLBT',), ('ATLBT',), ('ATLBT',), ('ATMGB',), ('ATMGB',), ('ATMGB',), ('ATMGB',), ('ATMGB',), ('ATMGB',), ('ATMGB',), ('ATMGB',), ('ATLBT',), ('ATLBT',), ('ATLBT',), ('ATLBT',), ('ATLBT',), ('ATLBT',), ('ATLBT',), ('ATLBT',), ('ATLBT',), ('ATLBT',), ('ATLBT',), ('ATLBT',), ('ATLBT',), ('ATLBT',), ('ATLBT',), ('ATLBT',), ('ATLBT',), ('ATCRM',), ('ATCRM',), ('ATCRM',), ('ATCRM',), ('ATCRM',), ('ATCRM',), ('ATCRM',), ('ATCRM',), ('ATCRM',), ('ATCRM',), ('ATCRM',), ('ATCRM',), ('ATCRM',), ('ATCRM',), ('ATCRM',), ('ATCRM',), ('ATCRM',), ('ATCRM',), ('ATCRM',), ('ATCRM',), ('ATCRM',), ('ATCRM',), ('ATCRM',), ('ATCRM',), ('ATCRM',), ('ATLBT',), ('ATLBT',)]\n"
     ]
    }
   ],
   "source": [
    "import pypyodbc\n",
    "\n",
    "server = '192.168.0.21'\n",
    "port = '4900'\n",
    "database = 'BAC_A_SABLE'\n",
    "username = 'admin'\n",
    "password = 'Clip_SERENA'\n",
    "\n",
    "\n",
    "cnxn = pypyodbc.connect('DRIVER={HFSQL}; \\\n",
    "                        Server Name =' + server + '; \\\n",
    "                        Server Port=' + port + '; \\\n",
    "                        DATABASE=' + database + '; \\\n",
    "                        UID=' + username + '; \\\n",
    "                        PWD=' + password)\n",
    "                        #Trusted_Connection=yes;\n",
    "\n",
    "crsr = cnxn.cursor()\n",
    "\n",
    "table_name = 'CHARGES'\n",
    "#cf_name = 'C6800'\n",
    "semaine = '12'\n",
    "\n",
    "#query = 'SELECT * FROM {}'.format(table_name)\n",
    "#query = 'SELECT * FROM ' +table_name+ ' WHERE NAF < 1000'\n",
    "query = \"SELECT COSECT FROM \" +table_name+ \" WHERE SEMAINE = \" +semaine\n",
    "#COFRAIS like '\" +cf_name+ \"' AND\n",
    "\n",
    "records = crsr.execute(query).fetchall()\n",
    "print(records)\n",
    "\n",
    "#columns_list = list(crsr.columns())\n",
    "#columns_list"
   ]
  },
  {
   "cell_type": "markdown",
   "id": "b444eb0e-92e6-404e-86cf-37e5c278889b",
   "metadata": {},
   "source": [
    "#### one_row = crsr.fetchone()\n",
    "type(one_row)"
   ]
  },
  {
   "cell_type": "code",
   "execution_count": null,
   "id": "3f09fc80-60da-4330-93f0-069765516619",
   "metadata": {},
   "outputs": [],
   "source": []
  }
 ],
 "metadata": {
  "kernelspec": {
   "display_name": "Python 3 (ipykernel)",
   "language": "python",
   "name": "python3"
  },
  "language_info": {
   "codemirror_mode": {
    "name": "ipython",
    "version": 3
   },
   "file_extension": ".py",
   "mimetype": "text/x-python",
   "name": "python",
   "nbconvert_exporter": "python",
   "pygments_lexer": "ipython3",
   "version": "3.12.2"
  }
 },
 "nbformat": 4,
 "nbformat_minor": 5
}
