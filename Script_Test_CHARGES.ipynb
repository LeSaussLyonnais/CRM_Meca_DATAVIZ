{
 "cells": [
  {
   "cell_type": "code",
   "execution_count": 1,
   "id": "c52c2a55-637b-4058-b5ec-9bd2130d710a",
   "metadata": {},
   "outputs": [
    {
     "name": "stdout",
     "output_type": "stream",
     "text": [
      "[(516, datetime.date(2024, 6, 21), None, 'C35-2', 'ATCRM', 'C35-2                         ', 5.743507, 0.0, 'EWELL', 40211, 427838), (35668, datetime.date(2024, 6, 21), None, 'C35-2', 'ATCRM', 'C35-2                         ', 8.318182, 0.0, 'EWELL', 40212, 427850)]\n"
     ]
    }
   ],
   "source": [
    "import pypyodbc\n",
    "\n",
    "server = '192.168.0.21'\n",
    "port = '4900'\n",
    "database = 'ICAM'\n",
    "username = 'admin'\n",
    "password = 'Clip_SERENA'\n",
    "\n",
    "\n",
    "cnxn = pypyodbc.connect('DRIVER={HFSQL}; \\\n",
    "                        Server Name =' + server + '; \\\n",
    "                        Server Port=' + port + '; \\\n",
    "                        DATABASE=' + database + '; \\\n",
    "                        UID=' + username + '; \\\n",
    "                        PWD=' + password)\n",
    "                        #Trusted_Connection=yes;\n",
    "\n",
    "# cnxn = pypyodbc.connect(r'DRIVER={HFSQL};ANA=C:\\Program Files (x86)\\Clip Industrie\\CLIPPER 7\\CLIPPER7.wd7\\CLIPPER7.WDD;REP=C:\\Clipindustrie\\Public\\Bases\\BAC A SABLE')\n",
    "\n",
    "crsr = cnxn.cursor()\n",
    "\n",
    "table_name = 'CHARGE'\n",
    "#cf_name = 'C6800'\n",
    "semaine = '12'\n",
    "\n",
    "#query = 'SELECT * FROM {}'.format(table_name)\n",
    "#query = 'SELECT * FROM ' +table_name+ ' WHERE NAF < 1000'\n",
    "query = \"SELECT * FROM \" +table_name+ \" WHERE DAT like '20240621' AND COFRAIS like 'C35-2' LIMIT 2\"\n",
    "#COFRAIS like '\" +cf_name+ \"' AND\n",
    "\n",
    "records = crsr.execute(query).fetchall()\n",
    "print(records)\n",
    "\n",
    "# tables = crsr.tables()\n",
    "# Alltables = list(tables)\n",
    "# print(Alltables)\n",
    "\n",
    "#columns_list = list(crsr.columns())\n",
    "#columns_list"
   ]
  },
  {
   "cell_type": "markdown",
   "id": "b444eb0e-92e6-404e-86cf-37e5c278889b",
   "metadata": {},
   "source": [
    "#### one_row = crsr.fetchone()\n",
    "type(one_row)"
   ]
  },
  {
   "cell_type": "code",
   "execution_count": null,
   "id": "3f09fc80-60da-4330-93f0-069765516619",
   "metadata": {},
   "outputs": [],
   "source": []
  }
 ],
 "metadata": {
  "kernelspec": {
   "display_name": "Python 3 (ipykernel)",
   "language": "python",
   "name": "python3"
  },
  "language_info": {
   "codemirror_mode": {
    "name": "ipython",
    "version": 3
   },
   "file_extension": ".py",
   "mimetype": "text/x-python",
   "name": "python",
   "nbconvert_exporter": "python",
   "pygments_lexer": "ipython3",
   "version": "3.12.2"
  }
 },
 "nbformat": 4,
 "nbformat_minor": 5
}
