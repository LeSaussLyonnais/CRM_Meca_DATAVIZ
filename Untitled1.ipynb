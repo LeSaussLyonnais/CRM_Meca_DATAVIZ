{
 "cells": [
  {
   "cell_type": "code",
   "execution_count": 1,
   "id": "8c6948bd-edfb-46d7-9a95-4981fbbbd022",
   "metadata": {},
   "outputs": [
    {
     "name": "stdout",
     "output_type": "stream",
     "text": [
      "could not find driver\n"
     ]
    }
   ],
   "source": [
    "import subprocess\n",
    "\n",
    "# Chemin vers le script PHP que vous souhaitez exécuter\n",
    "chemin_script_php = \"./Test_query_HFSQL_Copy.php\"\n",
    "chemin_php = \"C:/Program Files/php-8.3.6/php.exe\"\n",
    "\n",
    "#try:\n",
    "    # Exécuter le script PHP et capturer la sortie\n",
    "    #subprocess.call([chemin_php, chemin_script_php])\n",
    "resultat = subprocess.check_output([chemin_php, chemin_script_php])\n",
    "\n",
    "    # Afficher le résultat\n",
    "print(resultat.decode(\"utf-8\"))  # Assurez-vous de décoder la sortie en tant que chaîne Unicode si nécessaire\n",
    "#except subprocess.CalledProcessError as e:\n",
    "    # En cas d'erreur, afficher le message d'erreur\n",
    "#    print(\"Erreur lors de l'exécution du script PHP:\")\n",
    "#    print(e.output.decode(\"utf-8\"))"
   ]
  },
  {
   "cell_type": "code",
   "execution_count": null,
   "id": "6e495f7d-7acb-4d45-bcc8-8d8e0e7d523e",
   "metadata": {},
   "outputs": [],
   "source": []
  }
 ],
 "metadata": {
  "kernelspec": {
   "display_name": "Python 3 (ipykernel)",
   "language": "python",
   "name": "python3"
  },
  "language_info": {
   "codemirror_mode": {
    "name": "ipython",
    "version": 3
   },
   "file_extension": ".py",
   "mimetype": "text/x-python",
   "name": "python",
   "nbconvert_exporter": "python",
   "pygments_lexer": "ipython3",
   "version": "3.12.2"
  }
 },
 "nbformat": 4,
 "nbformat_minor": 5
}
