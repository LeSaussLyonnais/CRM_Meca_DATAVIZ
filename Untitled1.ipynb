{
 "cells": [
  {
   "cell_type": "code",
   "execution_count": 1,
   "id": "8c6948bd-edfb-46d7-9a95-4981fbbbd022",
   "metadata": {},
   "outputs": [
    {
     "ename": "ImportError",
     "evalue": "attempted relative import with no known parent package",
     "output_type": "error",
     "traceback": [
      "\u001b[1;31m---------------------------------------------------------------------------\u001b[0m",
      "\u001b[1;31mImportError\u001b[0m                               Traceback (most recent call last)",
      "Cell \u001b[1;32mIn[1], line 1\u001b[0m\n\u001b[1;32m----> 1\u001b[0m \u001b[38;5;28;01mfrom\u001b[39;00m \u001b[38;5;21;01m.\u001b[39;00m\u001b[38;5;21;01mmodels\u001b[39;00m \u001b[38;5;28;01mimport\u001b[39;00m \u001b[38;5;241m*\u001b[39m\n\u001b[0;32m      2\u001b[0m poste \u001b[38;5;241m=\u001b[39m \u001b[38;5;124m'\u001b[39m\u001b[38;5;124mC35-2\u001b[39m\u001b[38;5;124m'\u001b[39m\n\u001b[0;32m      4\u001b[0m \u001b[38;5;66;03m# Requête Django ORM\u001b[39;00m\n",
      "\u001b[1;31mImportError\u001b[0m: attempted relative import with no known parent package"
     ]
    }
   ],
   "source": [
    "from .models import *\n",
    "poste = 'C35-2'\n",
    "\n",
    "# Requête Django ORM\n",
    "resultats = OrdreFabrication.objects.filter(\n",
    "    OF_Poste_ID=poste\n",
    ").order_by('date_ordo', 'heure_ordo').values(\n",
    "    'GACLEUNIK', \n",
    "    'DATE_ORDO', \n",
    "    'CLIENT_NOM', \n",
    "    'NAF', \n",
    "    'ETATAF', \n",
    "    'RANG', \n",
    "    'EN_PIECE', \n",
    "    'PHASE', \n",
    "    'QTEAF', \n",
    "    'GA_PREP', \n",
    "    'GA_NBH', \n",
    "    'GA_NBHR', \n",
    "    'TYPEAF'\n",
    ")\n",
    "\n",
    "ordos = list(resultats)\n",
    "print(ordos)"
   ]
  },
  {
   "cell_type": "code",
   "execution_count": null,
   "id": "6e495f7d-7acb-4d45-bcc8-8d8e0e7d523e",
   "metadata": {},
   "outputs": [],
   "source": []
  }
 ],
 "metadata": {
  "kernelspec": {
   "display_name": "Python 3 (ipykernel)",
   "language": "python",
   "name": "python3"
  },
  "language_info": {
   "codemirror_mode": {
    "name": "ipython",
    "version": 3
   },
   "file_extension": ".py",
   "mimetype": "text/x-python",
   "name": "python",
   "nbconvert_exporter": "python",
   "pygments_lexer": "ipython3",
   "version": "3.12.2"
  }
 },
 "nbformat": 4,
 "nbformat_minor": 5
}
