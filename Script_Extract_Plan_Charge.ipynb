{
 "cells": [
  {
   "cell_type": "code",
   "execution_count": 1,
   "id": "610a3814-7dbc-4866-ae2f-b1ac622fe2a4",
   "metadata": {},
   "outputs": [
    {
     "name": "stdout",
     "output_type": "stream",
     "text": [
      "[{'cosect': 'ATCRM', 'annee': 2024, 'semaine': 12, 'cofrais': 'CP700', 'design': 'CRM TOUR CN PUMA 700          ', 'vduree': 68.961965}, {'cosect': 'ATCRM', 'annee': 2024, 'semaine': 12, 'cofrais': 'CP480', 'design': 'CRM TOUR CN PUMA 480          ', 'vduree': 275.348895}, {'cosect': 'ATCRM', 'annee': 2024, 'semaine': 12, 'cofrais': 'CTOUR', 'design': 'CRM TOURNAGE CONVENTIONNEL    ', 'vduree': 4.050289}, {'cosect': 'ATCRM', 'annee': 2024, 'semaine': 12, 'cofrais': 'C35-2', 'design': 'CRM TOUR CMZ N°2              ', 'vduree': 149.558448}, {'cosect': 'ATCRM', 'annee': 2024, 'semaine': 12, 'cofrais': 'CQTS ', 'design': 'CRM TOUR CN MAZAK QTS 200     ', 'vduree': 141.803715}]\n"
     ]
    }
   ],
   "source": [
    "import pypyodbc\n",
    "import pandas\n",
    "\n",
    "# Define the Components of the Connection String.\n",
    "server = '192.168.0.21'\n",
    "port = '4900'\n",
    "database = 'BAC_A_SABLE'\n",
    "username = 'admin'\n",
    "password = 'Clip_SERENA'\n",
    "\n",
    "# Create a connection object.\n",
    "connection_object: pypyodbc.Connection = pypyodbc.connect('DRIVER={HFSQL}; \\\n",
    "                        Server Name =' + server + '; \\\n",
    "                        Server Port=' + port + '; \\\n",
    "                        DATABASE=' + database + '; \\\n",
    "                        UID=' + username + '; \\\n",
    "                        PWD=' + password)\n",
    "                        #Trusted_Connection=yes;\n",
    "\n",
    "# Create a Cursor Object, using the connection.\n",
    "cursor_object: pypyodbc.Cursor = connection_object.cursor()\n",
    "\n",
    "table_name = 'CHARGES'\n",
    "table_name_2 = 'CFRAIS'\n",
    "site = 'ATCRM'\n",
    "atelier = 'TOUR'\n",
    "annee = '2024'\n",
    "semaine = '12'\n",
    "\n",
    "# Define the Select Query.\n",
    "sql_select = \"SELECT \"+table_name+\".COSECT, \"+table_name+\".ANNEE, \"+table_name+\".SEMAINE, \"+table_name+\".COFRAIS, \"+table_name_2+\".DESIGN, \"+table_name+\".VDUREE  \\\n",
    "                FROM \"+table_name+\" LEFT JOIN \"+table_name_2+\" ON \"+table_name+\".COFRAIS = \"+table_name_2+\".COFRAIS \\\n",
    "                WHERE COSECT like '\"+site+\"' AND ANNEE = \"+annee+\" AND SEMAINE = \"+semaine+\" AND \"+table_name_2+\".DESIGN like '%\"+atelier+\"%'\"\n",
    "cursor_object.execute(sql_select)\n",
    "\n",
    "# Define the column names.\n",
    "#columns = [column[0] for column in cursor_object.statistics]\n",
    "columns = [column[0] for column in cursor_object.description]\n",
    "\n",
    "# Execute the Query.\n",
    "records = cursor_object.fetchall()\n",
    "\n",
    "# Dump to a Pandas DataFrame.\n",
    "plancharge_df = pandas.DataFrame.from_records(\n",
    "    data=records,\n",
    "    columns=columns\n",
    ")\n",
    "\n",
    "charge_list = plancharge_df.to_dict('records')\n",
    "# print the head.\n",
    "print(charge_list)"
   ]
  },
  {
   "cell_type": "code",
   "execution_count": 2,
   "id": "e040153d-aeb8-4c83-b2c3-e0f1a14b0669",
   "metadata": {},
   "outputs": [
    {
     "name": "stdout",
     "output_type": "stream",
     "text": [
      "[{'cosect': 'ATCRM', 'annee': 2024, 'semaine': 12, 'postes': [{'cofrais': 'CP700', 'design': 'CRM TOUR CN PUMA 700          ', 'vduree': 68.961965}, {'cofrais': 'CP480', 'design': 'CRM TOUR CN PUMA 480          ', 'vduree': 275.348895}, {'cofrais': 'CTOUR', 'design': 'CRM TOURNAGE CONVENTIONNEL    ', 'vduree': 4.050289}, {'cofrais': 'C35-2', 'design': 'CRM TOUR CMZ N°2              ', 'vduree': 149.558448}, {'cofrais': 'CQTS', 'design': 'CRM TOUR CN MAZAK QTS 200     ', 'vduree': 141.803715}]}]\n"
     ]
    }
   ],
   "source": [
    "import json\n",
    "\n",
    "# Convertir le DataFrame en un dictionnaire de groupes de données.\n",
    "grouped_data = donnees_affaires.groupby([\"cosect\", \"annee\", \"semaine\"])\n",
    "\n",
    "# Créer une liste de dictionnaires JSON avec la structure requise.\n",
    "json_data = []\n",
    "for (cosect, annee, semaine), group in grouped_data:\n",
    "    postes = []\n",
    "    for index, row in group.iterrows():\n",
    "        poste = {\n",
    "            \"cofrais\": row[\"cofrais\"].strip(),  # Supprimer les espaces avant et après le code de frais\n",
    "            \"design\": row[\"design\"],\n",
    "            \"vduree\": row[\"vduree\"]\n",
    "        }\n",
    "        postes.append(poste)\n",
    "    data_entry = {\n",
    "        \"cosect\": cosect,\n",
    "        \"annee\": int(annee),  # Convertir en entier\n",
    "        \"semaine\": int(semaine),  # Convertir en entier\n",
    "        \"postes\": postes\n",
    "    }\n",
    "    json_data.append(data_entry)\n",
    "\n",
    "# Charger la chaîne JSON en tant qu'objet JSON\n",
    "#data = json.loads(json_data)\n",
    "\n",
    "print(json_data)"
   ]
  },
  {
   "cell_type": "code",
   "execution_count": null,
   "id": "d3ae9765-0e42-4741-8b8d-9f51fbdfe44d",
   "metadata": {},
   "outputs": [],
   "source": []
  }
 ],
 "metadata": {
  "kernelspec": {
   "display_name": "Python 3 (ipykernel)",
   "language": "python",
   "name": "python3"
  },
  "language_info": {
   "codemirror_mode": {
    "name": "ipython",
    "version": 3
   },
   "file_extension": ".py",
   "mimetype": "text/x-python",
   "name": "python",
   "nbconvert_exporter": "python",
   "pygments_lexer": "ipython3",
   "version": "3.12.2"
  }
 },
 "nbformat": 4,
 "nbformat_minor": 5
}
