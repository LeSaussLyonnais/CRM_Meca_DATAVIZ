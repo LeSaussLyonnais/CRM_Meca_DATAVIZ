{
 "cells": [
  {
   "cell_type": "code",
   "execution_count": 1,
   "id": "dce00960-109c-44f7-9edb-cd977ca91fe3",
   "metadata": {},
   "outputs": [
    {
     "name": "stdout",
     "output_type": "stream",
     "text": [
      "[(1, 'HIMP ', 'HEURES IMPRODUCTIVES          '), (2, 'OUTIL', 'OUTILLAGE                     '), (3, 'ATELI', 'ATELIER                       '), (4, 'CONSO', 'CONSOMMABLES                  '), (5, 'FG   ', 'FRAIS GENERAUX                '), (6, 'FOURN', 'FOURNITURES                   '), (7, 'MATPR', 'MATIERES PREMIERES            '), (8, 'PF   ', 'PIECE FINIE                   '), (9, 'ST   ', 'SOUS TRAITANCE                '), (10, 'ATCRM', 'ATELIER CRM                   '), (12, 'ATMGB', 'ATELIER MGB                   '), (13, 'ATLBT', 'ATELIER LABARTHE              ')]\n"
     ]
    }
   ],
   "source": [
    "import pypyodbc\n",
    "\n",
    "server = '192.168.0.21'\n",
    "port = '4900'\n",
    "database = 'BAC_A_SABLE'\n",
    "username = 'admin'\n",
    "password = 'Clip_SERENA'\n",
    "\n",
    "\n",
    "cnxn = pypyodbc.connect('DRIVER={HFSQL}; \\\n",
    "                        Server Name =' + server + '; \\\n",
    "                        Server Port=' + port + '; \\\n",
    "                        DATABASE=' + database + '; \\\n",
    "                        UID=' + username + '; \\\n",
    "                        PWD=' + password)\n",
    "                        #Trusted_Connection=yes;\n",
    "\n",
    "crsr = cnxn.cursor()\n",
    "\n",
    "table_name = 'SECTIONS'\n",
    "#cf_name = 'C6800'\n",
    "semaine = '12'\n",
    "site = 'ATCRM'\n",
    "\n",
    "#query = 'SELECT * FROM {}'.format(table_name)\n",
    "query = \"SELECT *  FROM \" +table_name\n",
    "#WHERE COSECT like '\" +site+ \"'\"\n",
    "#query = \"SELECT COSECT FROM \" +table_name+ \" WHERE SEMAINE = \" +semaine\n",
    "#COFRAIS like '\" +cf_name+ \"' AND\n",
    "\n",
    "records = crsr.execute(query).fetchall()\n",
    "print(records)\n",
    "\n",
    "#columns_list = list(crsr.columns())\n",
    "#columns_list"
   ]
  },
  {
   "cell_type": "code",
   "execution_count": null,
   "id": "24f3d7e2-9787-4fb5-b5c8-9ba94056d3a2",
   "metadata": {},
   "outputs": [],
   "source": []
  }
 ],
 "metadata": {
  "kernelspec": {
   "display_name": "Python 3 (ipykernel)",
   "language": "python",
   "name": "python3"
  },
  "language_info": {
   "codemirror_mode": {
    "name": "ipython",
    "version": 3
   },
   "file_extension": ".py",
   "mimetype": "text/x-python",
   "name": "python",
   "nbconvert_exporter": "python",
   "pygments_lexer": "ipython3",
   "version": "3.12.2"
  }
 },
 "nbformat": 4,
 "nbformat_minor": 5
}
