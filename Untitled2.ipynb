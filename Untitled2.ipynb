{
 "cells": [
  {
   "cell_type": "code",
   "execution_count": 1,
   "id": "dce00960-109c-44f7-9edb-cd977ca91fe3",
   "metadata": {},
   "outputs": [
    {
     "ename": "SyntaxError",
     "evalue": "invalid syntax (2864148086.py, line 1)",
     "output_type": "error",
     "traceback": [
      "\u001b[1;36m  Cell \u001b[1;32mIn[1], line 1\u001b[1;36m\u001b[0m\n\u001b[1;33m    $dsn=\"DRIVER={HFSQL};DSN=BAC_A_SABLE;Server Name=192.168.0.21;Server Port=4900;Database=BAC_A_SABLE;UID=admin;PWD=Clip_SERENA\";\u001b[0m\n\u001b[1;37m    ^\u001b[0m\n\u001b[1;31mSyntaxError\u001b[0m\u001b[1;31m:\u001b[0m invalid syntax\n"
     ]
    }
   ],
   "source": [
    "$dsn=\"DRIVER={HFSQL};DSN=BAC_A_SABLE;Server Name=192.168.0.21;Server Port=4900;Database=BAC_A_SABLE;UID=admin;PWD=Clip_SERENA\";\n",
    " \n",
    "$connexion = odbc_connect($dsn,'','','SQL_CUR_USE_ODBC') OR die( odbc_error() );"
   ]
  },
  {
   "cell_type": "code",
   "execution_count": null,
   "id": "24f3d7e2-9787-4fb5-b5c8-9ba94056d3a2",
   "metadata": {},
   "outputs": [],
   "source": []
  }
 ],
 "metadata": {
  "kernelspec": {
   "display_name": "Python 3 (ipykernel)",
   "language": "python",
   "name": "python3"
  },
  "language_info": {
   "codemirror_mode": {
    "name": "ipython",
    "version": 3
   },
   "file_extension": ".py",
   "mimetype": "text/x-python",
   "name": "python",
   "nbconvert_exporter": "python",
   "pygments_lexer": "ipython3",
   "version": "3.12.2"
  }
 },
 "nbformat": 4,
 "nbformat_minor": 5
}
