{
 "cells": [
  {
   "cell_type": "code",
   "execution_count": 1,
   "id": "a2584655-90d1-4485-b294-6f11a70c9fc5",
   "metadata": {
    "jp-MarkdownHeadingCollapsed": true,
    "scrolled": true
   },
   "outputs": [
    {
     "name": "stdout",
     "output_type": "stream",
     "text": [
      "20240703\n",
      "[]\n"
     ]
    }
   ],
   "source": [
    "import pypyodbc\n",
    "import pandas\n",
    "import datetime\n",
    "from datetime import date\n",
    "\n",
    "# Define the Components of the Connection String.\n",
    "server = '192.168.0.21'\n",
    "port = '4900'\n",
    "database = 'ICAM'\n",
    "username = 'admin'\n",
    "password = 'Clip_SERENA'\n",
    "\n",
    "# Variables dates\n",
    "date_today = datetime.datetime.today()\n",
    "date_limit = date_today + datetime.timedelta(days=21)\n",
    "formatted_date_limit = date_limit.strftime('%Y%m%d')\n",
    "print(formatted_date_limit)\n",
    "\n",
    "# Create a connection object.\n",
    "connection_object: pypyodbc.Connection = pypyodbc.connect('DRIVER={HFSQL}; \\\n",
    "                        Server Name =' + server + '; \\\n",
    "                        Server Port=' + port + '; \\\n",
    "                        DATABASE=' + database + '; \\\n",
    "                        UID=' + username + '; \\\n",
    "                        PWD=' + password)\n",
    "                        #Trusted_Connection=yes;\n",
    "\n",
    "# Create a Cursor Object, using the connection.\n",
    "cursor_object: pypyodbc.Cursor = connection_object.cursor()\n",
    "\n",
    "# Define the Select Query.\n",
    "sql_select = \"SELECT GAMME.GACLEUNIK, \\\n",
    "                CHARGE.DAT as DATE_CHARGE, \\\n",
    "                CHARGRES.DAT as DATE_ORDO, \\\n",
    "                CHARGRES.HEUREDEB as HEURE_ORDO, \\\n",
    "                CLIENT.NOM, \\\n",
    "                AFFAIRE.NAF, \\\n",
    "                AFFAIRE.ETATAF, \\\n",
    "                GAMME.RANG, \\\n",
    "                GAMME.EN_PIECE, \\\n",
    "                GAMME.PHASE, \\\n",
    "                AFFAIRE.QTEAF, \\\n",
    "                GAMME.GA_PREP, \\\n",
    "                GAMME.GA_NBH, \\\n",
    "                GAMME.GA_NBHR, \\\n",
    "                AFFAIRE.TYPEAF, \\\n",
    "                GAMME.COFRAIS \\\n",
    "                FROM GAMME \\\n",
    "                LEFT JOIN AFFAIRE ON GAMME.NAF = AFFAIRE.NAF \\\n",
    "                LEFT JOIN ENGAM ON GAMME.ENCLEUNIK = ENGAM.ENCLEUNIK \\\n",
    "                LEFT JOIN CLIENT ON AFFAIRE.COCLI = CLIENT.COCLI \\\n",
    "                LEFT JOIN CHARGRES ON GAMME.GACLEUNIK = CHARGRES.GACLEUNIK \\\n",
    "                LEFT JOIN CHARGE ON GAMME.GACLEUNIK = CHARGE.GACLEUNIK \\\n",
    "                WHERE GAMME.COFRAIS like 'C35-2' \\\n",
    "                AND DATE_CHARGE <= '\"+formatted_date_limit+\"'\"\n",
    "                # AND EXISTS ( \\\n",
    "                # SELECT CHARGE.DAT \\\n",
    "                # FROM CHARGE \\\n",
    "                # LEFT JOIN GAMME GAMME2 ON CHARGE.GACLEUNIK = GAMME2.GACLEUNIK \\\n",
    "                # WHERE 1=1 \\\n",
    "                # AND GAMME2.GACLEUNIK = GAMME.GACLEUNIK \\\n",
    "                # AND CHARGE.DAT <= '\"+formatted_date_limit+\"' \\\n",
    "                # )\n",
    "# AND AFFAIRE.ETATAF like 'F' \\\n",
    "# CHARGE.DAT as DATE_CHARGE,\n",
    "# LEFT JOIN CHARGE ON GAMME.GACLEUNIK = CHARGE.GACLEUNIK\n",
    "cursor_object.execute(sql_select)\n",
    "\n",
    "# Define the column names.\n",
    "#columns = [column[0] for column in cursor_object.statistics]\n",
    "columns = [column[0] for column in cursor_object.description]\n",
    "\n",
    "# Execute the Query.\n",
    "# records = cursor_object.fetchmany(10)\n",
    "records = cursor_object.fetchall()\n",
    "\n",
    "print(records)\n",
    "\n",
    "# Dump to a Pandas DataFrame.\n",
    "ordo_df = pandas.DataFrame.from_records(\n",
    "    data=records,\n",
    "    columns=columns\n",
    ")\n",
    "\n",
    "# ordo_df\n",
    "\n",
    "# print the head.\n",
    "# print(ordo_df.head())"
   ]
  },
  {
   "cell_type": "code",
   "execution_count": 2,
   "id": "e040153d-aeb8-4c83-b2c3-e0f1a14b0669",
   "metadata": {
    "scrolled": true
   },
   "outputs": [
    {
     "name": "stdout",
     "output_type": "stream",
     "text": [
      "[]\n"
     ]
    }
   ],
   "source": [
    "import json\n",
    "\n",
    "# Supposons que vous ayez un DataFrame pandas appelé df (ici = donnees_affaires)\n",
    "# Convertir le DataFrame en une chaîne JSON\n",
    "json_data = ordo_df.to_json(orient='records')\n",
    "\n",
    "# Charger la chaîne JSON en tant qu'objet JSON\n",
    "data = json.loads(json_data)\n",
    "\n",
    "print(json_data)"
   ]
  },
  {
   "cell_type": "code",
   "execution_count": 3,
   "id": "d3ae9765-0e42-4741-8b8d-9f51fbdfe44d",
   "metadata": {},
   "outputs": [
    {
     "data": {
      "text/html": [
       "<div>\n",
       "<style scoped>\n",
       "    .dataframe tbody tr th:only-of-type {\n",
       "        vertical-align: middle;\n",
       "    }\n",
       "\n",
       "    .dataframe tbody tr th {\n",
       "        vertical-align: top;\n",
       "    }\n",
       "\n",
       "    .dataframe thead th {\n",
       "        text-align: right;\n",
       "    }\n",
       "</style>\n",
       "<table border=\"1\" class=\"dataframe\">\n",
       "  <thead>\n",
       "    <tr style=\"text-align: right;\">\n",
       "      <th></th>\n",
       "      <th>gacleunik</th>\n",
       "    </tr>\n",
       "  </thead>\n",
       "  <tbody>\n",
       "  </tbody>\n",
       "</table>\n",
       "</div>"
      ],
      "text/plain": [
       "Empty DataFrame\n",
       "Columns: [gacleunik]\n",
       "Index: []"
      ]
     },
     "execution_count": 3,
     "metadata": {},
     "output_type": "execute_result"
    }
   ],
   "source": [
    "ordo_df"
   ]
  },
  {
   "cell_type": "code",
   "execution_count": null,
   "id": "2914c9ba-790b-46bc-9d28-2408f6dbaec8",
   "metadata": {},
   "outputs": [],
   "source": []
  }
 ],
 "metadata": {
  "kernelspec": {
   "display_name": "Python 3 (ipykernel)",
   "language": "python",
   "name": "python3"
  },
  "language_info": {
   "codemirror_mode": {
    "name": "ipython",
    "version": 3
   },
   "file_extension": ".py",
   "mimetype": "text/x-python",
   "name": "python",
   "nbconvert_exporter": "python",
   "pygments_lexer": "ipython3",
   "version": "3.12.2"
  }
 },
 "nbformat": 4,
 "nbformat_minor": 5
}
