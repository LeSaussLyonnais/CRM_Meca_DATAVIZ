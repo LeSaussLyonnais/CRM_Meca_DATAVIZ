{
 "cells": [
  {
   "cell_type": "code",
   "execution_count": 1,
   "id": "610a3814-7dbc-4866-ae2f-b1ac622fe2a4",
   "metadata": {},
   "outputs": [
    {
     "name": "stdout",
     "output_type": "stream",
     "text": [
      "   naf etataf                           piece                            desa  \\\n",
      "0    6      F  AFF. QUALITE                    AFF. QUALITE                     \n",
      "1   10      F  AFFAIRE DU STOCK                IMPUTATION STOCK                 \n",
      "2   11      F  AFFAIRE DES INVENTAIRES         INVENTAIRES                      \n",
      "3   12      F  AFFAIRE IMRODUCTIVE             HEURES ET ACHATS                 \n",
      "4   13      F  AFFAIRE DES ABSENCES            ABSENCES                         \n",
      "\n",
      "   qteaf  \n",
      "0    1.0  \n",
      "1    1.0  \n",
      "2    1.0  \n",
      "3    1.0  \n",
      "4    1.0  \n"
     ]
    }
   ],
   "source": [
    "import pypyodbc\n",
    "import pandas\n",
    "\n",
    "# Define the Components of the Connection String.\n",
    "server = '192.168.0.21'\n",
    "port = '4900'\n",
    "database = 'BAC_A_SABLE'\n",
    "username = 'admin'\n",
    "password = 'Clip_SERENA'\n",
    "\n",
    "# Create a connection object.\n",
    "connection_object: pypyodbc.Connection = pypyodbc.connect('DRIVER={HFSQL}; \\\n",
    "                        Server Name =' + server + '; \\\n",
    "                        Server Port=' + port + '; \\\n",
    "                        DATABASE=' + database + '; \\\n",
    "                        UID=' + username + '; \\\n",
    "                        PWD=' + password)\n",
    "                        #Trusted_Connection=yes;\n",
    "\n",
    "# Create a Cursor Object, using the connection.\n",
    "cursor_object: pypyodbc.Cursor = connection_object.cursor()\n",
    "\n",
    "# Define the Select Query.\n",
    "sql_select = \"SELECT NAF, ETATAF, PIECE, DESA, QTEAF FROM AFFAIRE\"\n",
    "cursor_object.execute(sql_select)\n",
    "\n",
    "# Define the column names.\n",
    "#columns = [column[0] for column in cursor_object.statistics]\n",
    "columns = [column[0] for column in cursor_object.description]\n",
    "\n",
    "# Execute the Query.\n",
    "records = cursor_object.fetchmany(10)\n",
    "\n",
    "# Dump to a Pandas DataFrame.\n",
    "donnees_affaires = pandas.DataFrame.from_records(\n",
    "    data=records,\n",
    "    columns=columns\n",
    ")\n",
    "\n",
    "# print the head.\n",
    "print(donnees_affaires.head())"
   ]
  },
  {
   "cell_type": "code",
   "execution_count": 2,
   "id": "e040153d-aeb8-4c83-b2c3-e0f1a14b0669",
   "metadata": {},
   "outputs": [
    {
     "name": "stdout",
     "output_type": "stream",
     "text": [
      "[{\"naf\":6,\"etataf\":\"F\",\"piece\":\"AFF. QUALITE                  \",\"desa\":\"AFF. QUALITE                  \",\"qteaf\":1.0},{\"naf\":10,\"etataf\":\"F\",\"piece\":\"AFFAIRE DU STOCK              \",\"desa\":\"IMPUTATION STOCK              \",\"qteaf\":1.0},{\"naf\":11,\"etataf\":\"F\",\"piece\":\"AFFAIRE DES INVENTAIRES       \",\"desa\":\"INVENTAIRES                   \",\"qteaf\":1.0},{\"naf\":12,\"etataf\":\"F\",\"piece\":\"AFFAIRE IMRODUCTIVE           \",\"desa\":\"HEURES ET ACHATS              \",\"qteaf\":1.0},{\"naf\":13,\"etataf\":\"F\",\"piece\":\"AFFAIRE DES ABSENCES          \",\"desa\":\"ABSENCES                      \",\"qteaf\":1.0},{\"naf\":14,\"etataf\":\"F\",\"piece\":\"AFFAIRE DES CONGES            \",\"desa\":\"CONGES                        \",\"qteaf\":1.0},{\"naf\":15,\"etataf\":\"S\",\"piece\":\"CHARIOT                       \",\"desa\":\"ROULANT                       \",\"qteaf\":1.0},{\"naf\":16,\"etataf\":\"S\",\"piece\":\"147                           \",\"desa\":\"AXE EPAULE                    \",\"qteaf\":20.0},{\"naf\":17,\"etataf\":\"S\",\"piece\":\"4887                          \",\"desa\":\"AXE                           \",\"qteaf\":5.0},{\"naf\":18,\"etataf\":\"S\",\"piece\":\"2154                          \",\"desa\":\"AXE                           \",\"qteaf\":5.0}]\n"
     ]
    }
   ],
   "source": [
    "import json\n",
    "\n",
    "# Supposons que vous ayez un DataFrame pandas appelé df (ici = donnees_affaires)\n",
    "# Convertir le DataFrame en une chaîne JSON\n",
    "json_data = donnees_affaires.to_json(orient='records')\n",
    "\n",
    "# Charger la chaîne JSON en tant qu'objet JSON\n",
    "data = json.loads(json_data)\n",
    "\n",
    "print(json_data)"
   ]
  },
  {
   "cell_type": "code",
   "execution_count": null,
   "id": "d3ae9765-0e42-4741-8b8d-9f51fbdfe44d",
   "metadata": {},
   "outputs": [],
   "source": []
  }
 ],
 "metadata": {
  "kernelspec": {
   "display_name": "Python 3 (ipykernel)",
   "language": "python",
   "name": "python3"
  },
  "language_info": {
   "codemirror_mode": {
    "name": "ipython",
    "version": 3
   },
   "file_extension": ".py",
   "mimetype": "text/x-python",
   "name": "python",
   "nbconvert_exporter": "python",
   "pygments_lexer": "ipython3",
   "version": "3.12.2"
  }
 },
 "nbformat": 4,
 "nbformat_minor": 5
}
