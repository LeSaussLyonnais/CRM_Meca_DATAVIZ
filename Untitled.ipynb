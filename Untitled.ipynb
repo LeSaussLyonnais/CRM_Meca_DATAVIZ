{
 "cells": [
  {
   "cell_type": "code",
   "execution_count": 1,
   "id": "678fea70-7a8a-4335-920e-b67173123646",
   "metadata": {},
   "outputs": [
    {
     "name": "stdout",
     "output_type": "stream",
     "text": [
      "SQL Server\n",
      "SQL Server Native Client 11.0\n",
      "Microsoft Access Driver (*.mdb, *.accdb)\n",
      "Microsoft Excel Driver (*.xls, *.xlsx, *.xlsm, *.xlsb)\n",
      "Microsoft Access Text Driver (*.txt, *.csv)\n",
      "HFSQL\n"
     ]
    }
   ],
   "source": [
    "import pyodbc\n",
    "\n",
    "for driver in pyodbc.drivers():\n",
    "\n",
    "    print(driver)"
   ]
  },
  {
   "cell_type": "code",
   "execution_count": 4,
   "id": "477ca64e-44cf-4ba1-ace0-fe4f5263ff95",
   "metadata": {},
   "outputs": [
    {
     "ename": "ValueError",
     "evalue": "invalid literal for int() with base 10: ''",
     "output_type": "error",
     "traceback": [
      "\u001b[1;31m---------------------------------------------------------------------------\u001b[0m",
      "\u001b[1;31mValueError\u001b[0m                                Traceback (most recent call last)",
      "Cell \u001b[1;32mIn[4], line 22\u001b[0m\n\u001b[0;32m     18\u001b[0m cursor \u001b[38;5;241m=\u001b[39m cnxn\u001b[38;5;241m.\u001b[39mcursor()\n\u001b[0;32m     20\u001b[0m cursor\u001b[38;5;241m.\u001b[39mexecute(\u001b[38;5;124m'\u001b[39m\u001b[38;5;124mSELECT * FROM AFFAIRE WHERE NAF < 1000\u001b[39m\u001b[38;5;124m'\u001b[39m)\n\u001b[1;32m---> 22\u001b[0m \u001b[38;5;28;43;01mfor\u001b[39;49;00m\u001b[43m \u001b[49m\u001b[43mrow\u001b[49m\u001b[43m \u001b[49m\u001b[38;5;129;43;01min\u001b[39;49;00m\u001b[43m \u001b[49m\u001b[43mcursor\u001b[49m\u001b[43m:\u001b[49m\n\u001b[0;32m     23\u001b[0m \u001b[43m    \u001b[49m\u001b[38;5;28;43mprint\u001b[39;49m\u001b[43m(\u001b[49m\u001b[43mrow\u001b[49m\u001b[43m)\u001b[49m\n\u001b[0;32m     25\u001b[0m \u001b[38;5;124;03m'''\u001b[39;00m\n\u001b[0;32m     26\u001b[0m \u001b[38;5;124;03mexcept pyodbc.Error as ex:\u001b[39;00m\n\u001b[0;32m     27\u001b[0m \u001b[38;5;124;03m    # Gestion de l'erreur pyodbc\u001b[39;00m\n\u001b[1;32m   (...)\u001b[0m\n\u001b[0;32m     39\u001b[0m \u001b[38;5;124;03m        pass\u001b[39;00m\n\u001b[0;32m     40\u001b[0m \u001b[38;5;124;03m'''\u001b[39;00m\n",
      "File \u001b[1;32mD:\\thoma\\MSI I5\\ProjDjango1\\.env\\Lib\\site-packages\\pypyodbc.py:1940\u001b[0m, in \u001b[0;36mCursor.__next__\u001b[1;34m(self)\u001b[0m\n\u001b[0;32m   1939\u001b[0m \u001b[38;5;28;01mdef\u001b[39;00m \u001b[38;5;21m__next__\u001b[39m(\u001b[38;5;28mself\u001b[39m):\n\u001b[1;32m-> 1940\u001b[0m     \u001b[38;5;28;01mreturn\u001b[39;00m \u001b[38;5;28;43mself\u001b[39;49m\u001b[38;5;241;43m.\u001b[39;49m\u001b[43mnext\u001b[49m\u001b[43m(\u001b[49m\u001b[43m)\u001b[49m\n",
      "File \u001b[1;32mD:\\thoma\\MSI I5\\ProjDjango1\\.env\\Lib\\site-packages\\pypyodbc.py:1943\u001b[0m, in \u001b[0;36mCursor.next\u001b[1;34m(self)\u001b[0m\n\u001b[0;32m   1942\u001b[0m \u001b[38;5;28;01mdef\u001b[39;00m \u001b[38;5;21mnext\u001b[39m(\u001b[38;5;28mself\u001b[39m):         \n\u001b[1;32m-> 1943\u001b[0m     row \u001b[38;5;241m=\u001b[39m \u001b[38;5;28;43mself\u001b[39;49m\u001b[38;5;241;43m.\u001b[39;49m\u001b[43mfetchone\u001b[49m\u001b[43m(\u001b[49m\u001b[43m)\u001b[49m\n\u001b[0;32m   1944\u001b[0m     \u001b[38;5;28;01mif\u001b[39;00m row \u001b[38;5;129;01mis\u001b[39;00m \u001b[38;5;28;01mNone\u001b[39;00m:\n\u001b[0;32m   1945\u001b[0m         \u001b[38;5;28;01mraise\u001b[39;00m(\u001b[38;5;167;01mStopIteration\u001b[39;00m)\n",
      "File \u001b[1;32mD:\\thoma\\MSI I5\\ProjDjango1\\.env\\Lib\\site-packages\\pypyodbc.py:1894\u001b[0m, in \u001b[0;36mCursor.fetchone\u001b[1;34m(self)\u001b[0m\n\u001b[0;32m   1892\u001b[0m         value_list\u001b[38;5;241m.\u001b[39mappend(\u001b[38;5;28;01mNone\u001b[39;00m)\n\u001b[0;32m   1893\u001b[0m     \u001b[38;5;28;01melse\u001b[39;00m:\n\u001b[1;32m-> 1894\u001b[0m         value_list\u001b[38;5;241m.\u001b[39mappend(\u001b[43mbuf_cvt_func\u001b[49m\u001b[43m(\u001b[49m\u001b[43malloc_buffer\u001b[49m\u001b[38;5;241;43m.\u001b[39;49m\u001b[43mvalue\u001b[49m\u001b[43m)\u001b[49m)\n\u001b[0;32m   1895\u001b[0m \u001b[38;5;28;01melse\u001b[39;00m:\n\u001b[0;32m   1896\u001b[0m     \u001b[38;5;66;03m# There are previous fetched raw data to combine\u001b[39;00m\n\u001b[0;32m   1897\u001b[0m     \u001b[38;5;28;01mif\u001b[39;00m target_type \u001b[38;5;241m==\u001b[39m SQL_C_BINARY:\n",
      "File \u001b[1;32mD:\\thoma\\MSI I5\\ProjDjango1\\.env\\Lib\\site-packages\\pypyodbc.py:604\u001b[0m, in \u001b[0;36mdt_cvt\u001b[1;34m(x)\u001b[0m\n\u001b[0;32m    602\u001b[0m     x \u001b[38;5;241m=\u001b[39m x\u001b[38;5;241m.\u001b[39mdecode(\u001b[38;5;124m'\u001b[39m\u001b[38;5;124mascii\u001b[39m\u001b[38;5;124m'\u001b[39m)\n\u001b[0;32m    603\u001b[0m \u001b[38;5;28;01mif\u001b[39;00m x \u001b[38;5;241m==\u001b[39m \u001b[38;5;124m'\u001b[39m\u001b[38;5;124m'\u001b[39m: \u001b[38;5;28;01mreturn\u001b[39;00m \u001b[38;5;28;01mNone\u001b[39;00m\n\u001b[1;32m--> 604\u001b[0m \u001b[38;5;28;01melse\u001b[39;00m: \u001b[38;5;28;01mreturn\u001b[39;00m datetime\u001b[38;5;241m.\u001b[39mdate(\u001b[38;5;28mint\u001b[39m(x[\u001b[38;5;241m0\u001b[39m:\u001b[38;5;241m4\u001b[39m]),\u001b[38;5;28mint\u001b[39m(x[\u001b[38;5;241m5\u001b[39m:\u001b[38;5;241m7\u001b[39m]),\u001b[38;5;28;43mint\u001b[39;49m\u001b[43m(\u001b[49m\u001b[43mx\u001b[49m\u001b[43m[\u001b[49m\u001b[38;5;241;43m8\u001b[39;49m\u001b[43m:\u001b[49m\u001b[38;5;241;43m10\u001b[39;49m\u001b[43m]\u001b[49m\u001b[43m)\u001b[49m)\n",
      "\u001b[1;31mValueError\u001b[0m: invalid literal for int() with base 10: ''"
     ]
    }
   ],
   "source": [
    "import pypyodbc\n",
    "\n",
    "server = '192.168.0.21'\n",
    "port = '4900'\n",
    "database = 'BAC_A_SABLE'\n",
    "username = 'admin'\n",
    "password = 'Clip_SERENA'\n",
    "\n",
    "#try:\n",
    "cnxn = pypyodbc.connect('DRIVER={HFSQL}; \\\n",
    "                        Server Name =' + server + '; \\\n",
    "                        Server Port=' + port + '; \\\n",
    "                        DATABASE=' + database + '; \\\n",
    "                        UID=' + username + '; \\\n",
    "                        PWD=' + password)\n",
    "                        #Trusted_Connection=yes;\n",
    "\n",
    "cursor = cnxn.cursor()\n",
    "\n",
    "cursor.execute('SELECT * FROM AFFAIRE WHERE NAF < 1000')\n",
    "\n",
    "for row in cursor:\n",
    "    print(row)\n",
    "\n",
    "'''\n",
    "except pyodbc.Error as ex:\n",
    "    # Gestion de l'erreur pyodbc\n",
    "    print(\"Erreur pyodbc : \", ex)\n",
    "\n",
    "except Exception as e:\n",
    "    # Gestion des autres exceptions\n",
    "    print(\"Une erreur s'est produite : \", e)\n",
    "\n",
    "finally:\n",
    "    # Fermeture de la connexion\n",
    "    try:\n",
    "        cnxn.close()\n",
    "    except:\n",
    "        pass\n",
    "'''"
   ]
  },
  {
   "cell_type": "code",
   "execution_count": null,
   "id": "376cbe66-6023-47fa-80cc-a7e12a6adf2f",
   "metadata": {},
   "outputs": [],
   "source": []
  }
 ],
 "metadata": {
  "kernelspec": {
   "display_name": "Python 3 (ipykernel)",
   "language": "python",
   "name": "python3"
  },
  "language_info": {
   "codemirror_mode": {
    "name": "ipython",
    "version": 3
   },
   "file_extension": ".py",
   "mimetype": "text/x-python",
   "name": "python",
   "nbconvert_exporter": "python",
   "pygments_lexer": "ipython3",
   "version": "3.12.2"
  }
 },
 "nbformat": 4,
 "nbformat_minor": 5
}
